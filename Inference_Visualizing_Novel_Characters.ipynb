{
  "cells": [
    {
      "attachments": {},
      "cell_type": "markdown",
      "metadata": {
        "colab_type": "text",
        "id": "view-in-github"
      },
      "source": [
        "<a href=\"https://colab.research.google.com/github/sanjay7178/Visualizing-Novel-Characters/blob/main/Inference_Visualizing_Novel_Characters.ipynb\" target=\"_parent\"><img src=\"https://colab.research.google.com/assets/colab-badge.svg\" alt=\"Open In Colab\"/></a>"
      ]
    },
    {
      "cell_type": "code",
      "execution_count": 1,
      "metadata": {
        "colab": {
          "base_uri": "https://localhost:8080/"
        },
        "id": "qa_ciAMavPKv",
        "outputId": "5f4fa09b-74ec-4820-f38a-520ebef6a2d0"
      },
      "outputs": [
        {
          "name": "stdout",
          "output_type": "stream",
          "text": [
            "Cloning into 'Visualizing-Novel-Characters'...\n",
            "remote: Enumerating objects: 60, done.\u001b[K\n",
            "remote: Total 60 (delta 0), reused 0 (delta 0), pack-reused 60\u001b[K\n",
            "Unpacking objects: 100% (60/60), 1.30 MiB | 4.36 MiB/s, done.\n"
          ]
        }
      ],
      "source": [
        "# !git clone https://github.com/Sudhendra/Visualizing-Novel-Characters"
      ]
    },
    {
      "cell_type": "code",
      "execution_count": 1,
      "metadata": {
        "colab": {
          "base_uri": "https://localhost:8080/"
        },
        "id": "iG5zz2ypvZPb",
        "outputId": "e30565ce-03aa-4940-bbfe-7a4f3fb4bbd0"
      },
      "outputs": [
        {
          "name": "stdout",
          "output_type": "stream",
          "text": [
            "/bin/bash: /home/air/miniconda3/envs/torch/lib/libtinfo.so.6: no version information available (required by /bin/bash)\n",
            "Cloning into 'neuralcoref'...\n",
            "remote: Enumerating objects: 772, done.\u001b[K\n",
            "remote: Counting objects: 100% (24/24), done.\u001b[K\n",
            "remote: Compressing objects: 100% (16/16), done.\u001b[K\n",
            "remote: Total 772 (delta 10), reused 16 (delta 7), pack-reused 748\u001b[K\n",
            "Receiving objects: 100% (772/772), 67.85 MiB | 10.86 MiB/s, done.\n",
            "Resolving deltas: 100% (407/407), done.\n",
            "/home/air/Desktop/Visualizing-Novel-Characters/neuralcoref\n",
            "/bin/bash: /home/air/miniconda3/envs/torch/lib/libtinfo.so.6: no version information available (required by /bin/bash)\n",
            "Collecting spacy<3.0.0,>=2.1.0 (from -r requirements.txt (line 1))\n",
            "  Downloading spacy-2.3.9-cp310-cp310-manylinux_2_17_x86_64.manylinux2014_x86_64.whl (4.9 MB)\n",
            "\u001b[2K     \u001b[38;2;114;156;31m━━━━━━━━━━━━━━━━━━━━━━━━━━━━━━━━━━━━━━━━\u001b[0m \u001b[32m4.9/4.9 MB\u001b[0m \u001b[31m4.6 MB/s\u001b[0m eta \u001b[36m0:00:00\u001b[0mm eta \u001b[36m0:00:01\u001b[0m[36m0:00:01\u001b[0m\n",
            "\u001b[?25hCollecting cython>=0.25 (from -r requirements.txt (line 2))\n",
            "  Downloading Cython-0.29.35-cp310-cp310-manylinux_2_17_x86_64.manylinux2014_x86_64.manylinux_2_24_x86_64.whl (1.9 MB)\n",
            "\u001b[2K     \u001b[38;2;114;156;31m━━━━━━━━━━━━━━━━━━━━━━━━━━━━━━━━━━━━━━━━\u001b[0m \u001b[32m1.9/1.9 MB\u001b[0m \u001b[31m9.1 MB/s\u001b[0m eta \u001b[36m0:00:00\u001b[0m0m eta \u001b[36m0:00:01\u001b[0m[36m0:00:01\u001b[0m\n",
            "\u001b[?25hCollecting pytest (from -r requirements.txt (line 3))\n",
            "  Downloading pytest-7.3.2-py3-none-any.whl (320 kB)\n",
            "\u001b[2K     \u001b[38;2;114;156;31m━━━━━━━━━━━━━━━━━━━━━━━━━━━━━━━━━━━━━━━\u001b[0m \u001b[32m320.9/320.9 kB\u001b[0m \u001b[31m5.2 MB/s\u001b[0m eta \u001b[36m0:00:00\u001b[0mm eta \u001b[36m0:00:01\u001b[0m\n",
            "\u001b[?25hCollecting murmurhash<1.1.0,>=0.28.0 (from spacy<3.0.0,>=2.1.0->-r requirements.txt (line 1))\n",
            "  Downloading murmurhash-1.0.9-cp310-cp310-manylinux_2_5_x86_64.manylinux1_x86_64.manylinux_2_17_x86_64.manylinux2014_x86_64.whl (21 kB)\n",
            "Collecting cymem<2.1.0,>=2.0.2 (from spacy<3.0.0,>=2.1.0->-r requirements.txt (line 1))\n",
            "  Downloading cymem-2.0.7-cp310-cp310-manylinux_2_17_x86_64.manylinux2014_x86_64.whl (34 kB)\n",
            "Collecting preshed<3.1.0,>=3.0.2 (from spacy<3.0.0,>=2.1.0->-r requirements.txt (line 1))\n",
            "  Downloading preshed-3.0.8-cp310-cp310-manylinux_2_5_x86_64.manylinux1_x86_64.manylinux_2_17_x86_64.manylinux2014_x86_64.whl (124 kB)\n",
            "\u001b[2K     \u001b[38;2;114;156;31m━━━━━━━━━━━━━━━━━━━━━━━━━━━━━━━━━━━━━━━\u001b[0m \u001b[32m124.7/124.7 kB\u001b[0m \u001b[31m2.8 MB/s\u001b[0m eta \u001b[36m0:00:00\u001b[0m[36m0:00:01\u001b[0m\n",
            "\u001b[?25hCollecting thinc<7.5.0,>=7.4.1 (from spacy<3.0.0,>=2.1.0->-r requirements.txt (line 1))\n",
            "  Downloading thinc-7.4.6-cp310-cp310-manylinux_2_17_x86_64.manylinux2014_x86_64.whl (1.0 MB)\n",
            "\u001b[2K     \u001b[38;2;114;156;31m━━━━━━━━━━━━━━━━━━━━━━━━━━━━━━━━━━━━━━━━\u001b[0m \u001b[32m1.0/1.0 MB\u001b[0m \u001b[31m7.7 MB/s\u001b[0m eta \u001b[36m0:00:00\u001b[0m0m eta \u001b[36m0:00:01\u001b[0m[36m0:00:01\u001b[0m\n",
            "\u001b[?25hCollecting blis<0.8.0,>=0.4.0 (from spacy<3.0.0,>=2.1.0->-r requirements.txt (line 1))\n",
            "  Downloading blis-0.7.9-cp310-cp310-manylinux_2_17_x86_64.manylinux2014_x86_64.whl (10.2 MB)\n",
            "\u001b[2K     \u001b[38;2;114;156;31m━━━━━━━━━━━━━━━━━━━━━━━━━━━━━━━━━━━━━━━━\u001b[0m \u001b[32m10.2/10.2 MB\u001b[0m \u001b[31m8.1 MB/s\u001b[0m eta \u001b[36m0:00:00\u001b[0m0m eta \u001b[36m0:00:01\u001b[0m:01\u001b[0m:01\u001b[0m\n",
            "\u001b[?25hCollecting wasabi<1.1.0,>=0.4.0 (from spacy<3.0.0,>=2.1.0->-r requirements.txt (line 1))\n",
            "  Downloading wasabi-0.10.1-py3-none-any.whl (26 kB)\n",
            "Collecting srsly<1.1.0,>=1.0.2 (from spacy<3.0.0,>=2.1.0->-r requirements.txt (line 1))\n",
            "  Downloading srsly-1.0.6-cp310-cp310-manylinux_2_17_x86_64.manylinux2014_x86_64.whl (209 kB)\n",
            "\u001b[2K     \u001b[38;2;114;156;31m━━━━━━━━━━━━━━━━━━━━━━━━━━━━━━━━━━━━━━━\u001b[0m \u001b[32m209.8/209.8 kB\u001b[0m \u001b[31m4.2 MB/s\u001b[0m eta \u001b[36m0:00:00\u001b[0m[36m0:00:01\u001b[0m\n",
            "\u001b[?25hCollecting catalogue<1.1.0,>=0.0.7 (from spacy<3.0.0,>=2.1.0->-r requirements.txt (line 1))\n",
            "  Downloading catalogue-1.0.2-py2.py3-none-any.whl (16 kB)\n",
            "Requirement already satisfied: tqdm<5.0.0,>=4.38.0 in /home/air/miniconda3/envs/torch/lib/python3.10/site-packages (from spacy<3.0.0,>=2.1.0->-r requirements.txt (line 1)) (4.65.0)\n",
            "Requirement already satisfied: setuptools in /home/air/miniconda3/envs/torch/lib/python3.10/site-packages (from spacy<3.0.0,>=2.1.0->-r requirements.txt (line 1)) (59.5.0)\n",
            "Requirement already satisfied: numpy>=1.15.0 in /home/air/miniconda3/envs/torch/lib/python3.10/site-packages (from spacy<3.0.0,>=2.1.0->-r requirements.txt (line 1)) (1.21.6)\n",
            "Collecting plac<1.2.0,>=0.9.6 (from spacy<3.0.0,>=2.1.0->-r requirements.txt (line 1))\n",
            "  Downloading plac-1.1.3-py2.py3-none-any.whl (20 kB)\n",
            "Requirement already satisfied: requests<3.0.0,>=2.13.0 in /home/air/miniconda3/envs/torch/lib/python3.10/site-packages (from spacy<3.0.0,>=2.1.0->-r requirements.txt (line 1)) (2.28.1)\n",
            "Collecting iniconfig (from pytest->-r requirements.txt (line 3))\n",
            "  Downloading iniconfig-2.0.0-py3-none-any.whl (5.9 kB)\n",
            "Requirement already satisfied: packaging in /home/air/miniconda3/envs/torch/lib/python3.10/site-packages (from pytest->-r requirements.txt (line 3)) (23.0)\n",
            "Collecting pluggy<2.0,>=0.12 (from pytest->-r requirements.txt (line 3))\n",
            "  Downloading pluggy-1.0.0-py2.py3-none-any.whl (13 kB)\n",
            "Collecting exceptiongroup>=1.0.0rc8 (from pytest->-r requirements.txt (line 3))\n",
            "  Downloading exceptiongroup-1.1.1-py3-none-any.whl (14 kB)\n",
            "Requirement already satisfied: tomli>=1.0.0 in /home/air/miniconda3/envs/torch/lib/python3.10/site-packages (from pytest->-r requirements.txt (line 3)) (2.0.1)\n",
            "Requirement already satisfied: charset-normalizer<3,>=2 in /home/air/miniconda3/envs/torch/lib/python3.10/site-packages (from requests<3.0.0,>=2.13.0->spacy<3.0.0,>=2.1.0->-r requirements.txt (line 1)) (2.0.4)\n",
            "Requirement already satisfied: idna<4,>=2.5 in /home/air/miniconda3/envs/torch/lib/python3.10/site-packages (from requests<3.0.0,>=2.13.0->spacy<3.0.0,>=2.1.0->-r requirements.txt (line 1)) (3.4)\n",
            "Requirement already satisfied: urllib3<1.27,>=1.21.1 in /home/air/miniconda3/envs/torch/lib/python3.10/site-packages (from requests<3.0.0,>=2.13.0->spacy<3.0.0,>=2.1.0->-r requirements.txt (line 1)) (1.26.6)\n",
            "Requirement already satisfied: certifi>=2017.4.17 in /home/air/miniconda3/envs/torch/lib/python3.10/site-packages (from requests<3.0.0,>=2.13.0->spacy<3.0.0,>=2.1.0->-r requirements.txt (line 1)) (2022.12.7)\n",
            "Installing collected packages: wasabi, plac, cymem, srsly, pluggy, murmurhash, iniconfig, exceptiongroup, cython, catalogue, blis, pytest, preshed, thinc, spacy\n",
            "Successfully installed blis-0.7.9 catalogue-1.0.2 cymem-2.0.7 cython-0.29.35 exceptiongroup-1.1.1 iniconfig-2.0.0 murmurhash-1.0.9 plac-1.1.3 pluggy-1.0.0 preshed-3.0.8 pytest-7.3.2 spacy-2.3.9 srsly-1.0.6 thinc-7.4.6 wasabi-0.10.1\n",
            "/bin/bash: /home/air/miniconda3/envs/torch/lib/libtinfo.so.6: no version information available (required by /bin/bash)\n",
            "Obtaining file:///home/air/Desktop/Visualizing-Novel-Characters/neuralcoref\n",
            "  Preparing metadata (setup.py) ... \u001b[?25ldone\n",
            "\u001b[?25hRequirement already satisfied: numpy>=1.15.0 in /home/air/miniconda3/envs/torch/lib/python3.10/site-packages (from neuralcoref==4.0) (1.21.6)\n",
            "Collecting boto3 (from neuralcoref==4.0)\n",
            "  Downloading boto3-1.26.152-py3-none-any.whl (135 kB)\n",
            "\u001b[2K     \u001b[38;2;114;156;31m━━━━━━━━━━━━━━━━━━━━━━━━━━━━━━━━━━━━━━━\u001b[0m \u001b[32m135.6/135.6 kB\u001b[0m \u001b[31m1.1 MB/s\u001b[0m eta \u001b[36m0:00:00\u001b[0m[36m0:00:01\u001b[0m[36m0:00:01\u001b[0m\n",
            "\u001b[?25hRequirement already satisfied: requests<3.0.0,>=2.13.0 in /home/air/miniconda3/envs/torch/lib/python3.10/site-packages (from neuralcoref==4.0) (2.28.1)\n",
            "Requirement already satisfied: spacy<3.0.0,>=2.1.0 in /home/air/miniconda3/envs/torch/lib/python3.10/site-packages (from neuralcoref==4.0) (2.3.9)\n",
            "Requirement already satisfied: charset-normalizer<3,>=2 in /home/air/miniconda3/envs/torch/lib/python3.10/site-packages (from requests<3.0.0,>=2.13.0->neuralcoref==4.0) (2.0.4)\n",
            "Requirement already satisfied: idna<4,>=2.5 in /home/air/miniconda3/envs/torch/lib/python3.10/site-packages (from requests<3.0.0,>=2.13.0->neuralcoref==4.0) (3.4)\n",
            "Requirement already satisfied: urllib3<1.27,>=1.21.1 in /home/air/miniconda3/envs/torch/lib/python3.10/site-packages (from requests<3.0.0,>=2.13.0->neuralcoref==4.0) (1.26.6)\n",
            "Requirement already satisfied: certifi>=2017.4.17 in /home/air/miniconda3/envs/torch/lib/python3.10/site-packages (from requests<3.0.0,>=2.13.0->neuralcoref==4.0) (2022.12.7)\n",
            "Requirement already satisfied: murmurhash<1.1.0,>=0.28.0 in /home/air/miniconda3/envs/torch/lib/python3.10/site-packages (from spacy<3.0.0,>=2.1.0->neuralcoref==4.0) (1.0.9)\n",
            "Requirement already satisfied: cymem<2.1.0,>=2.0.2 in /home/air/miniconda3/envs/torch/lib/python3.10/site-packages (from spacy<3.0.0,>=2.1.0->neuralcoref==4.0) (2.0.7)\n",
            "Requirement already satisfied: preshed<3.1.0,>=3.0.2 in /home/air/miniconda3/envs/torch/lib/python3.10/site-packages (from spacy<3.0.0,>=2.1.0->neuralcoref==4.0) (3.0.8)\n",
            "Requirement already satisfied: thinc<7.5.0,>=7.4.1 in /home/air/miniconda3/envs/torch/lib/python3.10/site-packages (from spacy<3.0.0,>=2.1.0->neuralcoref==4.0) (7.4.6)\n",
            "Requirement already satisfied: blis<0.8.0,>=0.4.0 in /home/air/miniconda3/envs/torch/lib/python3.10/site-packages (from spacy<3.0.0,>=2.1.0->neuralcoref==4.0) (0.7.9)\n",
            "Requirement already satisfied: wasabi<1.1.0,>=0.4.0 in /home/air/miniconda3/envs/torch/lib/python3.10/site-packages (from spacy<3.0.0,>=2.1.0->neuralcoref==4.0) (0.10.1)\n",
            "Requirement already satisfied: srsly<1.1.0,>=1.0.2 in /home/air/miniconda3/envs/torch/lib/python3.10/site-packages (from spacy<3.0.0,>=2.1.0->neuralcoref==4.0) (1.0.6)\n",
            "Requirement already satisfied: catalogue<1.1.0,>=0.0.7 in /home/air/miniconda3/envs/torch/lib/python3.10/site-packages (from spacy<3.0.0,>=2.1.0->neuralcoref==4.0) (1.0.2)\n",
            "Requirement already satisfied: tqdm<5.0.0,>=4.38.0 in /home/air/miniconda3/envs/torch/lib/python3.10/site-packages (from spacy<3.0.0,>=2.1.0->neuralcoref==4.0) (4.65.0)\n",
            "Requirement already satisfied: setuptools in /home/air/miniconda3/envs/torch/lib/python3.10/site-packages (from spacy<3.0.0,>=2.1.0->neuralcoref==4.0) (59.5.0)\n",
            "Requirement already satisfied: plac<1.2.0,>=0.9.6 in /home/air/miniconda3/envs/torch/lib/python3.10/site-packages (from spacy<3.0.0,>=2.1.0->neuralcoref==4.0) (1.1.3)\n",
            "Collecting botocore<1.30.0,>=1.29.152 (from boto3->neuralcoref==4.0)\n",
            "  Downloading botocore-1.29.152-py3-none-any.whl (10.9 MB)\n",
            "\u001b[2K     \u001b[38;2;114;156;31m━━━━━━━━━━━━━━━━━━━━━━━━━━━━━━━━━━━━━━━━\u001b[0m \u001b[32m10.9/10.9 MB\u001b[0m \u001b[31m10.0 MB/s\u001b[0m eta \u001b[36m0:00:00\u001b[0mm eta \u001b[36m0:00:01\u001b[0m[36m0:00:01\u001b[0m\n",
            "\u001b[?25hCollecting jmespath<2.0.0,>=0.7.1 (from boto3->neuralcoref==4.0)\n",
            "  Downloading jmespath-1.0.1-py3-none-any.whl (20 kB)\n",
            "Collecting s3transfer<0.7.0,>=0.6.0 (from boto3->neuralcoref==4.0)\n",
            "  Downloading s3transfer-0.6.1-py3-none-any.whl (79 kB)\n",
            "\u001b[2K     \u001b[38;2;114;156;31m━━━━━━━━━━━━━━━━━━━━━━━━━━━━━━━━━━━━━━━━\u001b[0m \u001b[32m79.8/79.8 kB\u001b[0m \u001b[31m1.8 MB/s\u001b[0m eta \u001b[36m0:00:00\u001b[0m[31m86.1 MB/s\u001b[0m eta \u001b[36m0:00:01\u001b[0m\n",
            "\u001b[?25hRequirement already satisfied: python-dateutil<3.0.0,>=2.1 in /home/air/miniconda3/envs/torch/lib/python3.10/site-packages (from botocore<1.30.0,>=1.29.152->boto3->neuralcoref==4.0) (2.8.2)\n",
            "Requirement already satisfied: six>=1.5 in /home/air/miniconda3/envs/torch/lib/python3.10/site-packages (from python-dateutil<3.0.0,>=2.1->botocore<1.30.0,>=1.29.152->boto3->neuralcoref==4.0) (1.16.0)\n",
            "Installing collected packages: jmespath, botocore, s3transfer, boto3, neuralcoref\n",
            "  Running setup.py develop for neuralcoref\n",
            "Successfully installed boto3-1.26.152 botocore-1.29.152 jmespath-1.0.1 neuralcoref-4.0 s3transfer-0.6.1\n"
          ]
        },
        {
          "name": "stderr",
          "output_type": "stream",
          "text": [
            "100%|██████████| 40155833/40155833 [00:12<00:00, 3307556.10B/s]\n"
          ]
        }
      ],
      "source": [
        "!git clone https://github.com/huggingface/neuralcoref.git\n",
        "\n",
        "%cd neuralcoref\n",
        "\n",
        "!pip install -r requirements.txt\n",
        "!pip install -e .\n",
        "\n",
        "import spacy\n",
        "import neuralcoref\n"
      ]
    },
    {
      "cell_type": "code",
      "execution_count": 2,
      "metadata": {
        "colab": {
          "base_uri": "https://localhost:8080/"
        },
        "id": "RvUjuaZWvdCl",
        "outputId": "05432368-ce9b-472d-8f30-1fabd830ec82"
      },
      "outputs": [
        {
          "name": "stdout",
          "output_type": "stream",
          "text": [
            "/bin/bash: /home/air/miniconda3/envs/torch/lib/libtinfo.so.6: no version information available (required by /bin/bash)\n",
            "\u001b[33mDEPRECATION: https://github.com/explosion/spacy-models/releases/download/en_core_web_sm-2.3.1/en_core_web_sm-2.3.1.tar.gz#egg=en_core_web_sm==2.3.1 contains an egg fragment with a non-PEP 508 name pip 25.0 will enforce this behaviour change. A possible replacement is to use the req @ url syntax, and remove the egg fragment. Discussion can be found at https://github.com/pypa/pip/issues/11617\u001b[0m\u001b[33m\n",
            "\u001b[0mCollecting en_core_web_sm==2.3.1\n",
            "  Downloading https://github.com/explosion/spacy-models/releases/download/en_core_web_sm-2.3.1/en_core_web_sm-2.3.1.tar.gz (12.0 MB)\n",
            "\u001b[2K     \u001b[38;2;114;156;31m━━━━━━━━━━━━━━━━━━━━━━━━━━━━━━━━━━━━━━━━\u001b[0m \u001b[32m12.0/12.0 MB\u001b[0m \u001b[31m9.9 MB/s\u001b[0m eta \u001b[36m0:00:00\u001b[0m0m eta \u001b[36m0:00:01\u001b[0m[36m0:00:01\u001b[0m\n",
            "\u001b[?25h  Preparing metadata (setup.py) ... \u001b[?25ldone\n",
            "\u001b[?25hRequirement already satisfied: spacy<2.4.0,>=2.3.0 in /home/air/miniconda3/envs/torch/lib/python3.10/site-packages (from en_core_web_sm==2.3.1) (2.3.9)\n",
            "Requirement already satisfied: murmurhash<1.1.0,>=0.28.0 in /home/air/miniconda3/envs/torch/lib/python3.10/site-packages (from spacy<2.4.0,>=2.3.0->en_core_web_sm==2.3.1) (1.0.9)\n",
            "Requirement already satisfied: cymem<2.1.0,>=2.0.2 in /home/air/miniconda3/envs/torch/lib/python3.10/site-packages (from spacy<2.4.0,>=2.3.0->en_core_web_sm==2.3.1) (2.0.7)\n",
            "Requirement already satisfied: preshed<3.1.0,>=3.0.2 in /home/air/miniconda3/envs/torch/lib/python3.10/site-packages (from spacy<2.4.0,>=2.3.0->en_core_web_sm==2.3.1) (3.0.8)\n",
            "Requirement already satisfied: thinc<7.5.0,>=7.4.1 in /home/air/miniconda3/envs/torch/lib/python3.10/site-packages (from spacy<2.4.0,>=2.3.0->en_core_web_sm==2.3.1) (7.4.6)\n",
            "Requirement already satisfied: blis<0.8.0,>=0.4.0 in /home/air/miniconda3/envs/torch/lib/python3.10/site-packages (from spacy<2.4.0,>=2.3.0->en_core_web_sm==2.3.1) (0.7.9)\n",
            "Requirement already satisfied: wasabi<1.1.0,>=0.4.0 in /home/air/miniconda3/envs/torch/lib/python3.10/site-packages (from spacy<2.4.0,>=2.3.0->en_core_web_sm==2.3.1) (0.10.1)\n",
            "Requirement already satisfied: srsly<1.1.0,>=1.0.2 in /home/air/miniconda3/envs/torch/lib/python3.10/site-packages (from spacy<2.4.0,>=2.3.0->en_core_web_sm==2.3.1) (1.0.6)\n",
            "Requirement already satisfied: catalogue<1.1.0,>=0.0.7 in /home/air/miniconda3/envs/torch/lib/python3.10/site-packages (from spacy<2.4.0,>=2.3.0->en_core_web_sm==2.3.1) (1.0.2)\n",
            "Requirement already satisfied: tqdm<5.0.0,>=4.38.0 in /home/air/miniconda3/envs/torch/lib/python3.10/site-packages (from spacy<2.4.0,>=2.3.0->en_core_web_sm==2.3.1) (4.65.0)\n",
            "Requirement already satisfied: setuptools in /home/air/miniconda3/envs/torch/lib/python3.10/site-packages (from spacy<2.4.0,>=2.3.0->en_core_web_sm==2.3.1) (59.5.0)\n",
            "Requirement already satisfied: numpy>=1.15.0 in /home/air/miniconda3/envs/torch/lib/python3.10/site-packages (from spacy<2.4.0,>=2.3.0->en_core_web_sm==2.3.1) (1.21.6)\n",
            "Requirement already satisfied: plac<1.2.0,>=0.9.6 in /home/air/miniconda3/envs/torch/lib/python3.10/site-packages (from spacy<2.4.0,>=2.3.0->en_core_web_sm==2.3.1) (1.1.3)\n",
            "Requirement already satisfied: requests<3.0.0,>=2.13.0 in /home/air/miniconda3/envs/torch/lib/python3.10/site-packages (from spacy<2.4.0,>=2.3.0->en_core_web_sm==2.3.1) (2.28.1)\n",
            "Requirement already satisfied: charset-normalizer<3,>=2 in /home/air/miniconda3/envs/torch/lib/python3.10/site-packages (from requests<3.0.0,>=2.13.0->spacy<2.4.0,>=2.3.0->en_core_web_sm==2.3.1) (2.0.4)\n",
            "Requirement already satisfied: idna<4,>=2.5 in /home/air/miniconda3/envs/torch/lib/python3.10/site-packages (from requests<3.0.0,>=2.13.0->spacy<2.4.0,>=2.3.0->en_core_web_sm==2.3.1) (3.4)\n",
            "Requirement already satisfied: urllib3<1.27,>=1.21.1 in /home/air/miniconda3/envs/torch/lib/python3.10/site-packages (from requests<3.0.0,>=2.13.0->spacy<2.4.0,>=2.3.0->en_core_web_sm==2.3.1) (1.26.6)\n",
            "Requirement already satisfied: certifi>=2017.4.17 in /home/air/miniconda3/envs/torch/lib/python3.10/site-packages (from requests<3.0.0,>=2.13.0->spacy<2.4.0,>=2.3.0->en_core_web_sm==2.3.1) (2022.12.7)\n",
            "Building wheels for collected packages: en_core_web_sm\n",
            "  Building wheel for en_core_web_sm (setup.py) ... \u001b[?25ldone\n",
            "\u001b[?25h  Created wheel for en_core_web_sm: filename=en_core_web_sm-2.3.1-py3-none-any.whl size=12047104 sha256=d1090d4b208171fe5c613e7b0dc83a5f8cdfe54ae26fddca9cd7a399b39b0cc2\n",
            "  Stored in directory: /home/air/.cache/pip/wheels/4f/1f/0e/16fae4b01d2d87454e0f484e58c48793efcf237f0894c1c4bd\n",
            "Successfully built en_core_web_sm\n",
            "Installing collected packages: en_core_web_sm\n",
            "Successfully installed en_core_web_sm-2.3.1\n",
            "\u001b[38;5;2m✔ Download and installation successful\u001b[0m\n",
            "You can now load the model via spacy.load('en_core_web_sm')\n",
            "\u001b[38;5;2m✔ Linking successful\u001b[0m\n",
            "/home/air/miniconda3/envs/torch/lib/python3.10/site-packages/en_core_web_sm -->\n",
            "/home/air/miniconda3/envs/torch/lib/python3.10/site-packages/spacy/data/en\n",
            "You can now load the model via spacy.load('en')\n",
            "[My sister: [My sister, She], a dog: [a dog, him]]\n"
          ]
        }
      ],
      "source": [
        "!python -m spacy download en\n",
        "nlp = spacy.load('en')\n",
        "neuralcoref.add_to_pipe(nlp)\n",
        "doc1 = nlp('My sister has a dog. She loves him.')\n",
        "print(doc1._.coref_clusters)"
      ]
    },
    {
      "cell_type": "code",
      "execution_count": 3,
      "metadata": {},
      "outputs": [
        {
          "name": "stdout",
          "output_type": "stream",
          "text": [
            "/home/air/Desktop/Visualizing-Novel-Characters\n"
          ]
        }
      ],
      "source": [
        "%cd .."
      ]
    },
    {
      "cell_type": "code",
      "execution_count": 4,
      "metadata": {
        "colab": {
          "base_uri": "https://localhost:8080/"
        },
        "id": "z84c_LRpvgQa",
        "outputId": "134aa86c-b4a4-4f67-aa09-e8f47941ae9b"
      },
      "outputs": [
        {
          "name": "stdout",
          "output_type": "stream",
          "text": [
            "/bin/bash: /home/air/miniconda3/envs/torch/lib/libtinfo.so.6: no version information available (required by /bin/bash)\n",
            "Updated git hooks.\n",
            "Git LFS initialized.\n",
            "/bin/bash: /home/air/miniconda3/envs/torch/lib/libtinfo.so.6: no version information available (required by /bin/bash)\n",
            "Cloning into 'bert-finetuned-pos'...\n",
            "remote: Enumerating objects: 38, done.\u001b[K\n",
            "remote: Total 38 (delta 0), reused 0 (delta 0), pack-reused 38\u001b[K\n",
            "Unpacking objects: 100% (38/38), 306.78 KiB | 1.47 MiB/s, done.\n",
            "Filtering content: 100% (4/4), 411.08 MiB | 9.77 MiB/s, done.\n",
            "/bin/bash: /home/air/miniconda3/envs/torch/lib/libtinfo.so.6: no version information available (required by /bin/bash)\n"
          ]
        }
      ],
      "source": [
        "!git lfs install\n",
        "!git clone https://huggingface.co/Fredvv/bert-finetuned-pos\n",
        "!mv bert-finetuned-pos pos_models"
      ]
    },
    {
      "cell_type": "code",
      "execution_count": 24,
      "metadata": {},
      "outputs": [
        {
          "name": "stdout",
          "output_type": "stream",
          "text": [
            "/bin/bash: /home/air/miniconda3/envs/torch/lib/libtinfo.so.6: no version information available (required by /bin/bash)\n",
            "Updated git hooks.\n",
            "Git LFS initialized.\n",
            "/bin/bash: /home/air/miniconda3/envs/torch/lib/libtinfo.so.6: no version information available (required by /bin/bash)\n",
            "Cloning into 'bert-base-NER'...\n",
            "remote: Enumerating objects: 58, done.\u001b[K\n",
            "remote: Counting objects: 100% (1/1), done.\u001b[K\n",
            "remote: Total 58 (delta 0), reused 0 (delta 0), pack-reused 57\u001b[K\n",
            "Unpacking objects: 100% (58/58), 114.09 KiB | 507.00 KiB/s, done.\n",
            "Filtering content: 100% (4/4), 1.61 GiB | 10.53 MiB/s, done.\n",
            "/bin/bash: /home/air/miniconda3/envs/torch/lib/libtinfo.so.6: no version information available (required by /bin/bash)\n"
          ]
        }
      ],
      "source": [
        "!git lfs install\n",
        "!git clone https://huggingface.co/dslim/bert-base-NER\n",
        "!mv bert-base-NER ner_models"
      ]
    },
    {
      "cell_type": "code",
      "execution_count": 5,
      "metadata": {
        "id": "cg2h9rfY3X1c"
      },
      "outputs": [
        {
          "name": "stdout",
          "output_type": "stream",
          "text": [
            "/bin/bash: /home/air/miniconda3/envs/torch/lib/libtinfo.so.6: no version information available (required by /bin/bash)\n",
            "mv: cannot stat 'bert-finetuned-pos': No such file or directory\n",
            "/bin/bash: /home/air/miniconda3/envs/torch/lib/libtinfo.so.6: no version information available (required by /bin/bash)\n",
            "/bin/bash: line 1: cd: Visualizing-Novel-Characters: No such file or directory\n"
          ]
        }
      ],
      "source": [
        "!mv bert-finetuned-pos pos_models\n",
        "!cd Visualizing-Novel-Characters"
      ]
    },
    {
      "cell_type": "code",
      "execution_count": 6,
      "metadata": {
        "colab": {
          "base_uri": "https://localhost:8080/"
        },
        "id": "qYSRi-0Pv5tk",
        "outputId": "5ac7a841-e82f-4ded-c529-f68b32e043b6"
      },
      "outputs": [
        {
          "name": "stdout",
          "output_type": "stream",
          "text": [
            "/bin/bash: /home/air/miniconda3/envs/torch/lib/libtinfo.so.6: no version information available (required by /bin/bash)\n",
            "Requirement already satisfied: transformers in /home/air/miniconda3/envs/torch/lib/python3.10/site-packages (4.28.1)\n",
            "Collecting stanza\n",
            "  Downloading stanza-1.5.0-py3-none-any.whl (802 kB)\n",
            "\u001b[2K     \u001b[38;2;114;156;31m━━━━━━━━━━━━━━━━━━━━━━━━━━━━━━━━━━━━━━━\u001b[0m \u001b[32m802.5/802.5 kB\u001b[0m \u001b[31m5.3 MB/s\u001b[0m eta \u001b[36m0:00:00\u001b[0mm eta \u001b[36m0:00:01\u001b[0m0:01\u001b[0m:01\u001b[0m\n",
            "\u001b[?25hCollecting diffusers\n",
            "  Downloading diffusers-0.17.1-py3-none-any.whl (1.1 MB)\n",
            "\u001b[2K     \u001b[38;2;114;156;31m━━━━━━━━━━━━━━━━━━━━━━━━━━━━━━━━━━━━━━━━\u001b[0m \u001b[32m1.1/1.1 MB\u001b[0m \u001b[31m7.7 MB/s\u001b[0m eta \u001b[36m0:00:00\u001b[0m0m eta \u001b[36m0:00:01\u001b[0m:01\u001b[0m0:01\u001b[0m\n",
            "\u001b[?25hRequirement already satisfied: filelock in /home/air/miniconda3/envs/torch/lib/python3.10/site-packages (from transformers) (3.12.0)\n",
            "Requirement already satisfied: huggingface-hub<1.0,>=0.11.0 in /home/air/miniconda3/envs/torch/lib/python3.10/site-packages (from transformers) (0.14.1)\n",
            "Requirement already satisfied: numpy>=1.17 in /home/air/miniconda3/envs/torch/lib/python3.10/site-packages (from transformers) (1.21.6)\n",
            "Requirement already satisfied: packaging>=20.0 in /home/air/miniconda3/envs/torch/lib/python3.10/site-packages (from transformers) (23.0)\n",
            "Requirement already satisfied: pyyaml>=5.1 in /home/air/miniconda3/envs/torch/lib/python3.10/site-packages (from transformers) (6.0)\n",
            "Requirement already satisfied: regex!=2019.12.17 in /home/air/miniconda3/envs/torch/lib/python3.10/site-packages (from transformers) (2023.3.23)\n",
            "Requirement already satisfied: requests in /home/air/miniconda3/envs/torch/lib/python3.10/site-packages (from transformers) (2.28.1)\n",
            "Requirement already satisfied: tokenizers!=0.11.3,<0.14,>=0.11.1 in /home/air/miniconda3/envs/torch/lib/python3.10/site-packages (from transformers) (0.13.3)\n",
            "Requirement already satisfied: tqdm>=4.27 in /home/air/miniconda3/envs/torch/lib/python3.10/site-packages (from transformers) (4.65.0)\n",
            "Collecting emoji (from stanza)\n",
            "  Downloading emoji-2.5.0.tar.gz (355 kB)\n",
            "\u001b[2K     \u001b[38;2;114;156;31m━━━━━━━━━━━━━━━━━━━━━━━━━━━━━━━━━━━━━━━\u001b[0m \u001b[32m355.8/355.8 kB\u001b[0m \u001b[31m5.8 MB/s\u001b[0m eta \u001b[36m0:00:00\u001b[0m[36m0:00:01\u001b[0m\n",
            "\u001b[?25h  Preparing metadata (setup.py) ... \u001b[?25ldone\n",
            "\u001b[?25hRequirement already satisfied: protobuf in /home/air/miniconda3/envs/torch/lib/python3.10/site-packages (from stanza) (3.20.0)\n",
            "Requirement already satisfied: six in /home/air/miniconda3/envs/torch/lib/python3.10/site-packages (from stanza) (1.16.0)\n",
            "Requirement already satisfied: torch>=1.3.0 in /home/air/miniconda3/envs/torch/lib/python3.10/site-packages (from stanza) (1.12.0)\n",
            "Requirement already satisfied: Pillow in /home/air/miniconda3/envs/torch/lib/python3.10/site-packages (from diffusers) (9.4.0)\n",
            "Requirement already satisfied: importlib-metadata in /home/air/miniconda3/envs/torch/lib/python3.10/site-packages (from diffusers) (6.1.0)\n",
            "Requirement already satisfied: fsspec in /home/air/miniconda3/envs/torch/lib/python3.10/site-packages (from huggingface-hub<1.0,>=0.11.0->transformers) (2023.4.0)\n",
            "Requirement already satisfied: typing-extensions>=3.7.4.3 in /home/air/miniconda3/envs/torch/lib/python3.10/site-packages (from huggingface-hub<1.0,>=0.11.0->transformers) (4.6.3)\n",
            "Requirement already satisfied: zipp>=0.5 in /home/air/miniconda3/envs/torch/lib/python3.10/site-packages (from importlib-metadata->diffusers) (3.15.0)\n",
            "Requirement already satisfied: charset-normalizer<3,>=2 in /home/air/miniconda3/envs/torch/lib/python3.10/site-packages (from requests->transformers) (2.0.4)\n",
            "Requirement already satisfied: idna<4,>=2.5 in /home/air/miniconda3/envs/torch/lib/python3.10/site-packages (from requests->transformers) (3.4)\n",
            "Requirement already satisfied: urllib3<1.27,>=1.21.1 in /home/air/miniconda3/envs/torch/lib/python3.10/site-packages (from requests->transformers) (1.26.6)\n",
            "Requirement already satisfied: certifi>=2017.4.17 in /home/air/miniconda3/envs/torch/lib/python3.10/site-packages (from requests->transformers) (2022.12.7)\n",
            "Building wheels for collected packages: emoji\n",
            "  Building wheel for emoji (setup.py) ... \u001b[?25ldone\n",
            "\u001b[?25h  Created wheel for emoji: filename=emoji-2.5.0-py2.py3-none-any.whl size=351224 sha256=c8c15bb3cbd08f57855e39f1b198564a13c8967a9c15e46f64e9330b5ad6440a\n",
            "  Stored in directory: /home/air/.cache/pip/wheels/2a/0c/2c/07b5af72b120503fe24590691d24c462a25e5e530db8700a96\n",
            "Successfully built emoji\n",
            "Installing collected packages: emoji, stanza, diffusers\n",
            "Successfully installed diffusers-0.17.1 emoji-2.5.0 stanza-1.5.0\n"
          ]
        }
      ],
      "source": [
        "!pip install transformers stanza diffusers"
      ]
    },
    {
      "cell_type": "code",
      "execution_count": 7,
      "metadata": {
        "colab": {
          "base_uri": "https://localhost:8080/"
        },
        "id": "F2nx_g8Lv-0W",
        "outputId": "fde5949e-123d-4dc4-8177-cec73f1acf3f"
      },
      "outputs": [
        {
          "name": "stdout",
          "output_type": "stream",
          "text": [
            "/bin/bash: /home/air/miniconda3/envs/torch/lib/libtinfo.so.6: no version information available (required by /bin/bash)\n",
            "Requirement already satisfied: accelerate in /home/air/miniconda3/envs/torch/lib/python3.10/site-packages (0.18.0)\n",
            "Requirement already satisfied: numpy>=1.17 in /home/air/miniconda3/envs/torch/lib/python3.10/site-packages (from accelerate) (1.21.6)\n",
            "Requirement already satisfied: packaging>=20.0 in /home/air/miniconda3/envs/torch/lib/python3.10/site-packages (from accelerate) (23.0)\n",
            "Requirement already satisfied: psutil in /home/air/miniconda3/envs/torch/lib/python3.10/site-packages (from accelerate) (5.9.4)\n",
            "Requirement already satisfied: pyyaml in /home/air/miniconda3/envs/torch/lib/python3.10/site-packages (from accelerate) (6.0)\n",
            "Requirement already satisfied: torch>=1.4.0 in /home/air/miniconda3/envs/torch/lib/python3.10/site-packages (from accelerate) (1.12.0)\n",
            "Requirement already satisfied: typing-extensions in /home/air/miniconda3/envs/torch/lib/python3.10/site-packages (from torch>=1.4.0->accelerate) (4.6.3)\n"
          ]
        }
      ],
      "source": [
        "!pip install accelerate"
      ]
    },
    {
      "cell_type": "code",
      "execution_count": 14,
      "metadata": {},
      "outputs": [
        {
          "name": "stdout",
          "output_type": "stream",
          "text": [
            "/bin/bash: /home/air/miniconda3/envs/torch/lib/libtinfo.so.6: no version information available (required by /bin/bash)\n",
            "Requirement already satisfied: transformers in /home/air/miniconda3/envs/torch/lib/python3.10/site-packages (4.30.1)\n",
            "Requirement already satisfied: filelock in /home/air/miniconda3/envs/torch/lib/python3.10/site-packages (from transformers) (3.12.0)\n",
            "Requirement already satisfied: huggingface-hub<1.0,>=0.14.1 in /home/air/miniconda3/envs/torch/lib/python3.10/site-packages (from transformers) (0.14.1)\n",
            "Requirement already satisfied: numpy>=1.17 in /home/air/miniconda3/envs/torch/lib/python3.10/site-packages (from transformers) (1.21.6)\n",
            "Requirement already satisfied: packaging>=20.0 in /home/air/miniconda3/envs/torch/lib/python3.10/site-packages (from transformers) (23.0)\n",
            "Requirement already satisfied: pyyaml>=5.1 in /home/air/miniconda3/envs/torch/lib/python3.10/site-packages (from transformers) (6.0)\n",
            "Requirement already satisfied: regex!=2019.12.17 in /home/air/miniconda3/envs/torch/lib/python3.10/site-packages (from transformers) (2023.3.23)\n",
            "Requirement already satisfied: requests in /home/air/miniconda3/envs/torch/lib/python3.10/site-packages (from transformers) (2.28.1)\n",
            "Requirement already satisfied: tokenizers!=0.11.3,<0.14,>=0.11.1 in /home/air/miniconda3/envs/torch/lib/python3.10/site-packages (from transformers) (0.13.3)\n",
            "Requirement already satisfied: safetensors>=0.3.1 in /home/air/miniconda3/envs/torch/lib/python3.10/site-packages (from transformers) (0.3.1)\n",
            "Requirement already satisfied: tqdm>=4.27 in /home/air/miniconda3/envs/torch/lib/python3.10/site-packages (from transformers) (4.65.0)\n",
            "Requirement already satisfied: fsspec in /home/air/miniconda3/envs/torch/lib/python3.10/site-packages (from huggingface-hub<1.0,>=0.14.1->transformers) (2023.4.0)\n",
            "Requirement already satisfied: typing-extensions>=3.7.4.3 in /home/air/miniconda3/envs/torch/lib/python3.10/site-packages (from huggingface-hub<1.0,>=0.14.1->transformers) (4.6.3)\n",
            "Requirement already satisfied: charset-normalizer<3,>=2 in /home/air/miniconda3/envs/torch/lib/python3.10/site-packages (from requests->transformers) (2.0.4)\n",
            "Requirement already satisfied: idna<4,>=2.5 in /home/air/miniconda3/envs/torch/lib/python3.10/site-packages (from requests->transformers) (3.4)\n",
            "Requirement already satisfied: urllib3<1.27,>=1.21.1 in /home/air/miniconda3/envs/torch/lib/python3.10/site-packages (from requests->transformers) (1.26.6)\n",
            "Requirement already satisfied: certifi>=2017.4.17 in /home/air/miniconda3/envs/torch/lib/python3.10/site-packages (from requests->transformers) (2022.12.7)\n"
          ]
        }
      ],
      "source": [
        "!pip install --upgrade transformers\n"
      ]
    },
    {
      "cell_type": "code",
      "execution_count": 30,
      "metadata": {},
      "outputs": [
        {
          "name": "stdout",
          "output_type": "stream",
          "text": [
            "/bin/bash: /home/air/miniconda3/envs/torch/lib/libtinfo.so.6: no version information available (required by /bin/bash)\n"
          ]
        }
      ],
      "source": [
        "!export TOKENIZERS_PARALLELISM=TRUE"
      ]
    },
    {
      "cell_type": "code",
      "execution_count": 38,
      "metadata": {
        "colab": {
          "base_uri": "https://localhost:8080/"
        },
        "id": "2wSUsRgCv-Yh",
        "outputId": "45ed0fae-09f3-4d06-dd97-df0b57b477cd"
      },
      "outputs": [
        {
          "name": "stdout",
          "output_type": "stream",
          "text": [
            "/bin/bash: /home/air/miniconda3/envs/torch/lib/libtinfo.so.6: no version information available (required by /bin/bash)\n",
            "Downloading https://raw.githubusercontent.com/stanfordnlp/stanza-resources/main/resources_1.5.0.json: 216kB [00:00, 7.80MB/s]\n",
            "2023-06-17 10:14:44 INFO: Downloading default packages for language: en (English) ...\n",
            "2023-06-17 10:14:46 INFO: File exists: /home/air/stanza_resources/en/default.zip\n",
            "2023-06-17 10:14:56 INFO: Finished downloading models and saved to /home/air/stanza_resources.\n",
            "2023-06-17 10:14:56 INFO: Checking for updates to resources.json in case models have been updated.  Note: this behavior can be turned off with download_method=None or download_method=DownloadMethod.REUSE_RESOURCES\n",
            "Downloading https://raw.githubusercontent.com/stanfordnlp/stanza-resources/main/resources_1.5.0.json: 216kB [00:00, 17.1MB/s]\n",
            "2023-06-17 10:14:56 WARNING: Can not find mwt: default from official model list. Ignoring it.\n",
            "2023-06-17 10:14:57 INFO: Loading these models for language: en (English):\n",
            "========================\n",
            "| Processor | Package  |\n",
            "------------------------\n",
            "| tokenize  | combined |\n",
            "| pos       | combined |\n",
            "| lemma     | combined |\n",
            "| depparse  | combined |\n",
            "========================\n",
            "\n",
            "2023-06-17 10:14:57 INFO: Using device: cuda\n",
            "2023-06-17 10:14:57 INFO: Loading: tokenize\n",
            "2023-06-17 10:14:59 INFO: Loading: pos\n",
            "2023-06-17 10:15:00 INFO: Loading: lemma\n",
            "2023-06-17 10:15:00 INFO: Loading: depparse\n",
            "2023-06-17 10:15:00 INFO: Done loading processors!\n",
            "`text_config_dict` is provided which will be used to initialize `CLIPTextConfig`. The value `text_config[\"id2label\"]` will be overriden.\n",
            "Resolving text coreferentially\n",
            "Begin Abstractive Summarizing\n",
            "Traceback (most recent call last):\n",
            "  File \"/home/air/Desktop/Visualizing-Novel-Characters/pipeline.py\", line 99, in <module>\n",
            "    summary_ids = model.generate(inputs, global_attention_mask=global_attention_mask, num_beams=3, max_length=80)\n",
            "AttributeError: 'str' object has no attribute 'generate'\n"
          ]
        }
      ],
      "source": [
        "!python3 'pipeline.py'"
      ]
    },
    {
      "cell_type": "code",
      "execution_count": 20,
      "metadata": {},
      "outputs": [
        {
          "name": "stderr",
          "output_type": "stream",
          "text": [
            "[nltk_data] Downloading package punkt to /home/air/nltk_data...\n",
            "[nltk_data]   Unzipping tokenizers/punkt.zip.\n"
          ]
        },
        {
          "data": {
            "text/plain": [
              "True"
            ]
          },
          "execution_count": 20,
          "metadata": {},
          "output_type": "execute_result"
        }
      ],
      "source": [
        "import nltk\n",
        "nltk.download('punkt')"
      ]
    },
    {
      "cell_type": "code",
      "execution_count": 26,
      "metadata": {
        "colab": {
          "base_uri": "https://localhost:8080/"
        },
        "id": "ZI3zuLCI7Zws",
        "outputId": "642679cc-4b42-4e10-e0e0-51a897245422"
      },
      "outputs": [
        {
          "name": "stdout",
          "output_type": "stream",
          "text": [
            "  adding: results/ (stored 0%)\n",
            "  adding: results/runawayml3.png (deflated 0%)\n",
            "  adding: results/stabilityAI3.png (deflated 0%)\n",
            "  adding: results/stabilityAI0.png (deflated 0%)\n",
            "  adding: results/stabilityAI2.png (deflated 0%)\n",
            "  adding: results/runawayml0.png (deflated 0%)\n",
            "  adding: results/stabilityAI1.png (deflated 0%)\n",
            "  adding: results/runawayml4.png (deflated 0%)\n",
            "  adding: results/runawayml2.png (deflated 0%)\n",
            "  adding: results/stabilityAI4.png (deflated 0%)\n",
            "  adding: results/runawayml1.png (deflated 0%)\n"
          ]
        }
      ],
      "source": [
        "!zip -r results.zip results"
      ]
    },
    {
      "attachments": {},
      "cell_type": "markdown",
      "metadata": {},
      "source": [
        "### Gradio"
      ]
    },
    {
      "cell_type": "code",
      "execution_count": null,
      "metadata": {
        "id": "qUTRpo0F7tsc"
      },
      "outputs": [],
      "source": [
        "import gradio as gr\n",
        "\n",
        "def greet(name):\n",
        "    return \"Hello \" + name + \"!\"\n",
        "\n",
        "demo = gr.Interface(fn=greet, inputs=\"text\", outputs=\"text\")\n",
        "\n",
        "demo.launch()   "
      ]
    }
  ],
  "metadata": {
    "accelerator": "GPU",
    "colab": {
      "authorship_tag": "ABX9TyPwgMdDQCdlhVM/ZEOSVBlH",
      "gpuType": "T4",
      "include_colab_link": true,
      "provenance": []
    },
    "gpuClass": "standard",
    "kernelspec": {
      "display_name": "Python 3",
      "name": "python3"
    },
    "language_info": {
      "codemirror_mode": {
        "name": "ipython",
        "version": 3
      },
      "file_extension": ".py",
      "mimetype": "text/x-python",
      "name": "python",
      "nbconvert_exporter": "python",
      "pygments_lexer": "ipython3",
      "version": "3.10.9"
    }
  },
  "nbformat": 4,
  "nbformat_minor": 0
}
